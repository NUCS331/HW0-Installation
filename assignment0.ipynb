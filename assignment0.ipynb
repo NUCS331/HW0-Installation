{
 "cells": [
  {
   "cell_type": "markdown",
   "id": "7680f8f4",
   "metadata": {},
   "source": [
    "# Homework 0 - Environment Setup and Introduction to Python"
   ]
  },
  {
   "cell_type": "markdown",
   "id": "74e43014",
   "metadata": {},
   "source": [
    "Welcome to your first homework assignment! In this notebook, you'll get familiar with the Jupyter Lab environment and the assignment structure for this course. You'll also have the opportunity to practice some basic Python and NumPy operations.\n",
    "\n",
    "Please go through this Jupyter notebook and implement the missing functions in the `src/code.py` file. After implementing the functions, add, commit, and push your changes to your GitHub repository.\n",
    "\n",
    "Once you've completed the assignment, prepare your first report using the provided templates. Remember to submit this report to Canvas as well."
   ]
  },
  {
   "cell_type": "code",
   "execution_count": null,
   "id": "9a4a06f3",
   "metadata": {},
   "outputs": [],
   "source": [
    "# Importing packages\n",
    "\n",
    "import numpy as np  # NumPy for linear algebra and mathematical operations\n",
    "import random  # Random for creating random numbers\n",
    "\n",
    "# Information on autoreload which will be important to update your modules\n",
    "# when you change them so that they work in the Jupyter notebook\n",
    "# https://ipython.org/ipython-doc/3/config/extensions/autoreload.html\n",
    "%load_ext autoreload\n",
    "%autoreload 2"
   ]
  },
  {
   "cell_type": "markdown",
   "id": "e5c64974",
   "metadata": {},
   "source": [
    "Let's check if the other required packages have been installed successfully. If any of these packages cannot be imported, please install them manually using PIP or CONDA. The easiest way to do this is to search \"Install package name pip python\" on Google, look for the installation guide, and install it through a simple command in your shell."
   ]
  },
  {
   "cell_type": "code",
   "execution_count": null,
   "id": "24351164",
   "metadata": {},
   "outputs": [],
   "source": [
    "import rawpy\n",
    "import numpy as np\n",
    "import glob\n",
    "import cv2\n",
    "from PIL import Image\n",
    "import os\n",
    "import matplotlib.pyplot as plt\n",
    "from matplotlib.pyplot import imshow"
   ]
  },
  {
   "cell_type": "markdown",
   "id": "81f28e7e",
   "metadata": {},
   "source": [
    "# Import the functions that you have to implement"
   ]
  },
  {
   "cell_type": "code",
   "execution_count": null,
   "id": "f727b233",
   "metadata": {},
   "outputs": [],
   "source": [
    "import src.code as code"
   ]
  },
  {
   "cell_type": "markdown",
   "id": "58dd96d7",
   "metadata": {},
   "source": [
    "# Implement the functions and test if they work"
   ]
  },
  {
   "cell_type": "code",
   "execution_count": null,
   "id": "d274171d",
   "metadata": {},
   "outputs": [],
   "source": [
    "code.sum_numbers(1, 2)"
   ]
  },
  {
   "cell_type": "code",
   "execution_count": null,
   "id": "fdcbec7b",
   "metadata": {},
   "outputs": [],
   "source": [
    "code.multiply_numbers(2, 3)"
   ]
  },
  {
   "cell_type": "code",
   "execution_count": null,
   "id": "23350b77",
   "metadata": {},
   "outputs": [],
   "source": [
    "code.create_add_matrix(np.ones((3, 3)))"
   ]
  },
  {
   "cell_type": "code",
   "execution_count": null,
   "id": "3590316f",
   "metadata": {},
   "outputs": [],
   "source": [
    "code.indexing_aggregation([1, 2, 4, 4, 5], 3)"
   ]
  },
  {
   "cell_type": "code",
   "execution_count": null,
   "id": "4c83c4ef",
   "metadata": {},
   "outputs": [],
   "source": [
    "A = np.array([[4, 7], [2, 6]])"
   ]
  },
  {
   "cell_type": "code",
   "execution_count": null,
   "id": "60c4fd83",
   "metadata": {},
   "outputs": [],
   "source": [
    "A_inv = code.matrix_inverse(A)\n",
    "print(A_inv)"
   ]
  },
  {
   "cell_type": "code",
   "execution_count": null,
   "id": "0197094c",
   "metadata": {
    "lines_to_next_cell": 0
   },
   "outputs": [],
   "source": [
    "# Verify that this is the actual inverse\n",
    "np.matmul(A, A_inv)\n",
    "# The result should be a matrix with only ones on the diagonal"
   ]
  },
  {
   "cell_type": "markdown",
   "id": "ac753dab",
   "metadata": {},
   "source": [
    "## Additional Python and NumPy Practice"
   ]
  },
  {
   "cell_type": "markdown",
   "id": "20695b82",
   "metadata": {},
   "source": [
    "In this section, you'll have the opportunity to showcase your Python and NumPy skills by writing your own code. Feel free to use any concepts or techniques you've learned previously in school or college. If you need inspiration, consider searching online for interesting Python or NumPy examples.\n",
    "\n",
    "Your task is to write 5-10 minutes worth of Python and/or NumPy code. This can be a single coherent example or a series of smaller, unrelated examples. The goal is to demonstrate your understanding of the language and its libraries.\n",
    "\n",
    "Some ideas to get you started:\n",
    "- Implement a classic algorithm like the Fibonacci sequence or the Sieve of Eratosthenes\n",
    "- Create a function that calculates the factorial of a number\n",
    "- Write a script that generates a random password of a specified length\n",
    "- Use NumPy to create and manipulate a 3D array\n",
    "- Implement a basic linear regression model using NumPy\n",
    "\n",
    "Remember to include comments in your code to explain what each part does. If you use any external resources (like StackOverflow or Python documentation), be sure to cite them in your comments."
   ]
  },
  {
   "cell_type": "markdown",
   "id": "bff4430a",
   "metadata": {},
   "source": [
    "# Your code here"
   ]
  },
  {
   "cell_type": "markdown",
   "id": "47f292fb",
   "metadata": {},
   "source": [
    "Briefly explain what your code does and how it works. If you used any external resources, cite them here.\n",
    "\n",
    "(Write 2-3 sentences)"
   ]
  },
  {
   "cell_type": "markdown",
   "id": "dc33ac5e",
   "metadata": {},
   "source": [
    "-------------\n",
    "-------------"
   ]
  },
  {
   "cell_type": "markdown",
   "id": "0cf904d6",
   "metadata": {},
   "source": [
    "## <span style=\"color:indigo\">(R) Questions: Report</span>\n",
    "\n",
    "Answer each of these questions in *your own* words:\n",
    "\n",
    "You can revisit the first lecture or use Google to find information, but don't forget to cite your sources.\n",
    "\n",
    "(Try to write less than 5 sentences for each question)\n",
    "\n",
    "1. What is Computational Photography?\n",
    "2. Why are scientists/engineers/industry interested in Computational Photography? Can you name a few examples?\n",
    "3. What do you think are the differences between Computational Photography, Computational Imaging, Optics, Computer Graphics, and Computer Vision?\n",
    "4. What do you think are important skills/tools to have when you work in Computational Photography?\n",
    "5. Why did you decide to take Computational Photography? Are you a photographer? Do you have experience in Computer Vision? Do you like imaging?\n",
    "6. To familiarize yourself with including equations (in LaTeX/Word), include 2 equations from previous courses (Optics/Engineering/Signal Processing) that you might think become important for Computational Photography. Describe the formula in 1-2 sentences and make sure to cite the source.\n",
    "   - These links might be useful to refresh your memory: [Link 1](https://www.newport.com/n/optics-formulas), [Link 2](https://www.dummies.com/education/science/physics/optics-for-dummies-cheat-sheet/)"
   ]
  },
  {
   "cell_type": "markdown",
   "id": "0020dca8",
   "metadata": {},
   "source": [
    "## <span style=\"color:orange\">(T) Questions: Think!</span>\n",
    "1. This type of question will be a thought experiment or a question whose answer will guide you in the homework. Don't include the answers to these in the report. Think questions typically appear in between the programming assignments."
   ]
  },
  {
   "cell_type": "markdown",
   "id": "2d5e2f75",
   "metadata": {},
   "source": [
    "## <span style=\"color:indigo\">(R) Results: Report</span>\n",
    "\n",
    "1. Please include some images (screenshots) to show that you've successfully installed Git, Anaconda, and JupyterLab. Follow the tips in the report template to include well-labeled and captioned images.\n"
   ]
  }
 ],
 "metadata": {
  "kernelspec": {
   "display_name": "Python 3",
   "language": "python",
   "name": "python3"
  }
 },
 "nbformat": 4,
 "nbformat_minor": 5
}
